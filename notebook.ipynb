{
 "cells": [
  {
   "cell_type": "code",
   "execution_count": 1,
   "metadata": {},
   "outputs": [],
   "source": [
    "import numpy as np\n",
    "import matplotlib\n",
    "import matplotlib.pyplot as plt\n",
    "from mpl_toolkits.mplot3d import Axes3D\n",
    "from matplotlib.gridspec import GridSpec\n",
    "from matplotlib import animation\n",
    "from IPython.display import HTML\n",
    "from celluloid import Camera\n",
    "from math import sin, cos, radians, pi, sqrt, ceil, degrees\n",
    "from collections import namedtuple\n",
    "%matplotlib widget\n",
    "matplotlib.rcParams['animation.ffmpeg_path'] = \"/Users/kiranmclernon/Documents/PhysicsCode/ffmpeg 2\""
   ]
  },
  {
   "cell_type": "code",
   "execution_count": null,
   "metadata": {},
   "outputs": [],
   "source": [
    "fig = plt.figure()\n",
    "ax = Axes3D(fig)\n",
    "plt.title('Parametric Curve Plot')\n",
    "ax.set_ylabel('Y-axis')\n",
    "ax.set_xlabel('X-axis')\n",
    "ax.set_zlabel('Z-axis')\n",
    "ax.set_yticks((-10, 10, 1.0))\n",
    "ax.set_zticks((-10,10,1.0))\n",
    "# Prepare arrays x, y, z\n",
    "#This sets up our domain (i.e. -6pi <= t<= 6pi\n",
    "t = np.linspace(-6 * np.pi, 6 * np.pi, 100)\n",
    "\n",
    "#Now we have to write our PARAMETERIC FUNCTIONS\n",
    "x = t\n",
    "y = t*np.sin(t)\n",
    "z = t*np.cos(t)\n",
    "\n",
    "camera = Camera(fig)\n",
    "for i in range(len(x)):\n",
    "    imx = x[i]\n",
    "    imy = y[i]\n",
    "    imz = z[i]\n",
    "    ax.scatter(x[i-1], y[i-1], z[i-1],color='blue')\n",
    "    ax.plot(x[0:i], y[0:i], z[0:i],color='red',linestyle='dotted')\n",
    "    camera.snap()\n",
    "\n",
    "    \n",
    "anim = camera.animate()\n",
    "writervideo = animation.FFMpegWriter(fps=24)\n",
    "anim.save('curveplot.mp4', writer=writervideo)"
   ]
  },
  {
   "cell_type": "code",
   "execution_count": 2,
   "metadata": {},
   "outputs": [],
   "source": [
    "def lastElement(functionList):\n",
    "    return functionList[len(functionList)-1]\n",
    "def getElement(functionList, index):\n",
    "    try:\n",
    "        return functionList[index]\n",
    "    except IndexError:\n",
    "        return lastElement(functionList)\n",
    "def getIndex(functionList,index):\n",
    "    try:\n",
    "        placeholder = functionList[index]\n",
    "        return index\n",
    "    except IndexError:\n",
    "        return len(functionList)-1\n",
    "class projectilePath:\n",
    "    def __init__(self, time, dt, ax, ay, vx, vy, sx,sy, initialConditions):\n",
    "        self.dt = dt\n",
    "        self.time=np.array(time)\n",
    "        self.ax =np.array(ax)\n",
    "        self.ay=np.array(ay)\n",
    "        self.vx=np.array(vx)\n",
    "        self.vy=np.array(vy)\n",
    "        self.sx=np.array(sx)\n",
    "        self.sy=np.array(sy)\n",
    "        self.initialConditions = initialConditions\n",
    "        self.maxTime=None\n",
    "class motionSim():\n",
    "    class projectilemotion:\n",
    "        def __init__(self, launchAngle, initialVelocity, ballRadius, mass, dt, gravity=9.81):\n",
    "            self.launchAngle = radians(launchAngle)\n",
    "            self.initialVelocity = initialVelocity\n",
    "            self.ballRadius = ballRadius\n",
    "            self.mass=mass\n",
    "            self.dt=dt\n",
    "            self.gravity = -abs(gravity)\n",
    "        def projectileMotion(self):\n",
    "            time = (-2 * self.initialVelocity*sin(self.launchAngle))/(-abs(self.gravity))\n",
    "            print(f\"time = {time}\")\n",
    "            t = np.linspace(0, time,ceil(int(1/self.dt)*time))\n",
    "            sy = np.multiply(t,self.initialVelocity*sin(self.launchAngle)) + np.multiply((0.5*self.gravity),np.square(t))\n",
    "            sx = self.initialVelocity*cos(self.launchAngle)*t\n",
    "            vx  = np.ones(len(t))*self.initialVelocity*cos(self.launchAngle)\n",
    "            vy = self.initialVelocity*sin(self.launchAngle) + self.gravity*t\n",
    "            ax = np.zeros(len(t))\n",
    "            ay = np.ones(len(t))*self.gravity\n",
    "            return projectilePath(t,self.dt, ax,ay,vx,vy,sx,sy, self)\n",
    "        def projectileMotionAirResistance(self, fluidDensity = 1.1455):\n",
    "            xVelocity = [self.initialVelocity*cos(self.launchAngle)]\n",
    "            yVelocity = [self.initialVelocity*sin(self.launchAngle)]\n",
    "            dragConstant = 0.47*(fluidDensity)*0.5*(pi*self.ballRadius**2)\n",
    "            xDisplacement = [0]\n",
    "            yDisplacement = [0]\n",
    "            print(f\"Drag Constant is : {dragConstant}\")\n",
    "            ax = [0]\n",
    "            ay = [0]\n",
    "            \n",
    "            timeList = [0]\n",
    "            grounded = False\n",
    "            while not grounded:\n",
    "                if lastElement(timeList) > 0:\n",
    "                    if lastElement(yDisplacement) <=0:\n",
    "                        break\n",
    "                # print(f\"xVelocity: {lastElement(xVelocity)}, yVelocity: {lastElement(yVelocity)} xDisplacement: {lastElement(xDisplacement)} yDisplacememt{lastElement(yDisplacement)}, time: {lastElement(timeList)}\")\n",
    "                timeList.append(lastElement(timeList)+self.dt)\n",
    "                xDisplacement.append(lastElement(xDisplacement)+lastElement(xVelocity)*self.dt)\n",
    "                yDisplacement.append(lastElement(yDisplacement)+lastElement(yVelocity)*self.dt)\n",
    "                velocityMagnitude = sqrt(lastElement(xVelocity)**2+lastElement(yVelocity)**2)\n",
    "                ax.append(-dragConstant*velocityMagnitude*lastElement(xVelocity)/self.mass)\n",
    "                ay.append(-abs(self.gravity)-(dragConstant*velocityMagnitude*lastElement(yVelocity)/self.mass))\n",
    "                xVelocity.append(lastElement(xVelocity) + lastElement(ax)*self.dt)\n",
    "                yVelocity.append(lastElement(yVelocity) +  lastElement(ay)*self.dt)\n",
    "            return projectilePath(timeList, self.dt, ax,ay,xVelocity,yVelocity,xDisplacement,yDisplacement, self)\n",
    "        def velocityString(self, pathName:str, path:projectilePath, index:int):\n",
    "            return f\"\\n{pathName}: \\nvx: {round(getElement(path.vx,index),2)}\\nvy: {round(getElement(path.vy,index),2)}\\nv mag: {round(sqrt(getElement(path.vx,index)**2+getElement(path.vy,index)**2),2)}\"\n",
    "        def animate(self):\n",
    "            airResistancePath = self.projectileMotionAirResistance()\n",
    "            airFreePath = self.projectileMotion()\n",
    "            if airResistancePath.time.max() >= airFreePath.time.max():\n",
    "                airResistancePath.maxTime=True\n",
    "                graphTime = airResistancePath.time\n",
    "            else:\n",
    "                airFreePath.maxTime=True\n",
    "                graphTime = airFreePath.time\n",
    "            fig = plt.figure()\n",
    "            gs = GridSpec(5, 10, figure=fig)\n",
    "            ax1 = fig.add_subplot(gs[:, 0:7])\n",
    "            # ax3 = fig.add_subplot(gs[:,5:6])\n",
    "            ax2 = fig.add_subplot(gs[:, 7:])\n",
    "            ax1.set_xlim(left=0,right= airFreePath.sx.max())\n",
    "            ax1.set_ylim(bottom=0,top=airFreePath.sy.max())\n",
    "            ax2.set_frame_on(False)\n",
    "            ax2.axes.get_yaxis().set_visible(False)\n",
    "            ax2.axes.get_xaxis().set_visible(False)\n",
    "            # ax3.set_frame_on(False)\n",
    "            # ax3.axes.get_yaxis().set_visible(False)\n",
    "            # ax3.axes.get_xaxis().set_visible(False)\n",
    "            camera = Camera(fig)\n",
    "            annotationStringConstant = f\"initial conditions:\\nsphere radius: {self.ballRadius} m\\nsphere mass: {self.mass} kg\\ninitial velocity: {self.initialVelocity} m/s\\nlaunch angle: {degrees(self.launchAngle)} degrees\"\n",
    "            for i in range(len(graphTime)):\n",
    "                ax1.scatter(airFreePath.sx[:getIndex(airFreePath.sx,i)],airFreePath.sy[:getIndex(airFreePath.sy,i)],color='red')\n",
    "                ax1.scatter(airResistancePath.sx[:getIndex(airResistancePath.sx,i)],airResistancePath.sy[:getIndex(airResistancePath.sy,i)],color='blue')\n",
    "                vaccuumString = self.velocityString(pathName=\"vacuum projectile\", path=airFreePath, index=i)\n",
    "                airResistanceString = self.velocityString(pathName=\"air resistance projectile\", path=airResistancePath, index=i)\n",
    "                timestring = f\"\\ntime: {round(graphTime[i],3)}\"\n",
    "                ax2.text(0,(airFreePath.sy.max()/2),s=(annotationStringConstant+timestring + vaccuumString+airResistanceString ))\n",
    "                camera.snap()\n",
    "            plt.show()\n",
    "            anim = camera.animate(interval=1)\n",
    "            writervideo = animation.FFMpegWriter(fps=round(len(graphTime)/graphTime.maxIO))\n",
    "            anim.save('projectileMotion.mp4', writer=writervideo)      \n",
    "            \n",
    "\n"
   ]
  },
  {
   "cell_type": "code",
   "execution_count": null,
   "metadata": {},
   "outputs": [],
   "source": []
  },
  {
   "cell_type": "code",
   "execution_count": 3,
   "metadata": {},
   "outputs": [
    {
     "name": "stdout",
     "output_type": "stream",
     "text": [
      "Drag Constant is : 0.8456931804014703\n",
      "time = 0.7208020195581524\n"
     ]
    },
    {
     "data": {
      "application/vnd.jupyter.widget-view+json": {
       "model_id": "661575c2d43a46008493a13567a833f7",
       "version_major": 2,
       "version_minor": 0
      },
      "image/png": "[encoded data removed]",
      "text/html": [
       "\n",
       "            <div style=\"display: inline-block;\">\n",
       "                <div class=\"jupyter-widgets widget-label\" style=\"text-align: center;\">\n",
       "                    Figure\n",
       "                </div>\n",
       "                <img src='data:image/png;base64,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' width=640.0/>\n",
       "            </div>\n",
       "        "
      ],
      "text/plain": [
       "Canvas(toolbar=Toolbar(toolitems=[('Home', 'Reset original view', 'home', 'home'), ('Back', 'Back to previous …"
      ]
     },
     "metadata": {},
     "output_type": "display_data"
    }
   ],
   "source": [
    "sim = motionSim.projectilemotion(launchAngle=45, initialVelocity=5, ballRadius=1, mass=1, dt=0.01)\n",
    "sim.animate()"
   ]
  },
  {
   "cell_type": "code",
   "execution_count": null,
   "metadata": {},
   "outputs": [],
   "source": []
  },
  {
   "cell_type": "code",
   "execution_count": null,
   "metadata": {},
   "outputs": [],
   "source": []
  },
  {
   "cell_type": "code",
   "execution_count": null,
   "metadata": {},
   "outputs": [],
   "source": []
  },
  {
   "cell_type": "code",
   "execution_count": null,
   "metadata": {},
   "outputs": [],
   "source": []
  },
  {
   "cell_type": "code",
   "execution_count": null,
   "metadata": {},
   "outputs": [],
   "source": []
  },
  {
   "cell_type": "code",
   "execution_count": null,
   "metadata": {},
   "outputs": [],
   "source": []
  },
  {
   "cell_type": "code",
   "execution_count": null,
   "metadata": {},
   "outputs": [],
   "source": []
  },
  {
   "cell_type": "code",
   "execution_count": null,
   "metadata": {},
   "outputs": [],
   "source": []
  },
  {
   "cell_type": "code",
   "execution_count": null,
   "metadata": {},
   "outputs": [],
   "source": []
  },
  {
   "cell_type": "code",
   "execution_count": null,
   "metadata": {},
   "outputs": [],
   "source": []
  },
  {
   "cell_type": "code",
   "execution_count": null,
   "metadata": {},
   "outputs": [],
   "source": []
  },
  {
   "cell_type": "code",
   "execution_count": null,
   "metadata": {},
   "outputs": [],
   "source": []
  },
  {
   "cell_type": "code",
   "execution_count": null,
   "metadata": {},
   "outputs": [],
   "source": []
  },
  {
   "cell_type": "code",
   "execution_count": null,
   "metadata": {},
   "outputs": [],
   "source": []
  },
  {
   "cell_type": "code",
   "execution_count": null,
   "metadata": {},
   "outputs": [],
   "source": []
  },
  {
   "cell_type": "code",
   "execution_count": null,
   "metadata": {},
   "outputs": [],
   "source": []
  },
  {
   "cell_type": "code",
   "execution_count": null,
   "metadata": {},
   "outputs": [],
   "source": []
  },
  {
   "cell_type": "code",
   "execution_count": null,
   "metadata": {},
   "outputs": [],
   "source": []
  }
 ],
 "metadata": {
  "interpreter": {
   "hash": "73fcfa07a03ff40458abcca956b4b718280c22b598635f86f95f8ee28050855b"
  },
  "kernelspec": {
   "display_name": "Python 3.8.9 ('.venv': venv)",
   "language": "python",
   "name": "python3"
  },
  "language_info": {
   "codemirror_mode": {
    "name": "ipython",
    "version": 3
   },
   "file_extension": ".py",
   "mimetype": "text/x-python",
   "name": "python",
   "nbconvert_exporter": "python",
   "pygments_lexer": "ipython3",
   "version": "3.8.9"
  },
  "orig_nbformat": 4
 },
 "nbformat": 4,
 "nbformat_minor": 2
}
