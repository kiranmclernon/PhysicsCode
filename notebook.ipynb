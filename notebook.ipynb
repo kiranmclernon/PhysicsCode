{
 "cells": [
  {
   "cell_type": "code",
   "execution_count": 1,
   "metadata": {},
   "outputs": [],
   "source": [
    "import numpy as np\n",
    "import matplotlib\n",
    "import matplotlib.pyplot as plt\n",
    "from mpl_toolkits.mplot3d import Axes3D\n",
    "from matplotlib.gridspec import GridSpec\n",
    "from matplotlib import animation\n",
    "from IPython.display import HTML\n",
    "from celluloid import Camera\n",
    "from math import sin, cos, radians, pi, sqrt, ceil, degrees\n",
    "from time import sleep\n",
    "%matplotlib widget\n",
    "matplotlib.rcParams['animation.ffmpeg_path'] = \"/Users/kiranmclernon/Documents/PhysicsCode/ffmpeg 2\"\n"
   ]
  },
  {
   "cell_type": "markdown",
   "metadata": {},
   "source": [
    "### Notes\n",
    "- To run the ffmpeg executable needs to be in the source file"
   ]
  },
  {
   "cell_type": "markdown",
   "metadata": {},
   "source": [
    "## Parametric Curve Animation"
   ]
  },
  {
   "cell_type": "code",
   "execution_count": null,
   "metadata": {},
   "outputs": [],
   "source": [
    "fig = plt.figure()\n",
    "ax = Axes3D(fig)\n",
    "plt.title('Parametric Curve Plot')\n",
    "ax.set_ylabel('Y-axis')\n",
    "ax.set_xlabel('X-axis')\n",
    "ax.set_zlabel('Z-axis')\n",
    "ax.set_yticks((-10, 10, 1.0))\n",
    "ax.set_zticks((-10,10,1.0))\n",
    "# Prepare arrays x, y, z\n",
    "#This sets up our domain (i.e. -6pi <= t<= 6pi\n",
    "t = np.linspace(-6 * np.pi, 6 * np.pi, 100)\n",
    "\n",
    "#Now we have to write our PARAMETERIC FUNCTIONS\n",
    "x = t\n",
    "y = t*np.sin(t)\n",
    "z = t*np.cos(t)\n",
    "\n",
    "camera = Camera(fig)\n",
    "for i in range(len(x)):\n",
    "    imx = x[i]\n",
    "    imy = y[i]\n",
    "    imz = z[i]\n",
    "    ax.scatter(x[i-1], y[i-1], z[i-1],color='blue')\n",
    "    ax.plot(x[0:i], y[0:i], z[0:i],color='red',linestyle='dotted')\n",
    "    camera.snap()\n",
    "\n",
    "    \n",
    "anim = camera.animate()\n",
    "writervideo = animation.FFMpegWriter(fps=24)\n",
    "anim.save('curveplot.mp4', writer=writervideo)"
   ]
  },
  {
   "cell_type": "markdown",
   "metadata": {},
   "source": [
    "# The Projectiles"
   ]
  },
  {
   "cell_type": "markdown",
   "metadata": {},
   "source": [
    "### The Math"
   ]
  },
  {
   "cell_type": "markdown",
   "metadata": {},
   "source": [
    "#### The Drag Math"
   ]
  },
  {
   "cell_type": "markdown",
   "metadata": {},
   "source": [
    "$$D=\\frac{C_dA\\rho}{2}$$\n",
    "$$F_d=Dv^2$$\n",
    "$$a_x=\\frac{-Dvv_x}{m}$$\n",
    "$$a_y=-g-\\frac{-Dvv_y}{m}$$"
   ]
  },
  {
   "cell_type": "markdown",
   "metadata": {},
   "source": [
    "#### The Projectile Motion Math"
   ]
  },
  {
   "cell_type": "markdown",
   "metadata": {},
   "source": [
    "$$v=u+at$$\n",
    "$$s=ut+\\frac{1}{2}at^2$$\n",
    "$$s=vt$$"
   ]
  },
  {
   "cell_type": "markdown",
   "metadata": {},
   "source": [
    "#### Pendulum Math\n",
    "$$\\frac{d^2\\theta}{dt^2}-gL\\sin(\\theta)=0$$"
   ]
  },
  {
   "cell_type": "markdown",
   "metadata": {},
   "source": [
    "### The Code"
   ]
  },
  {
   "cell_type": "code",
   "execution_count": 3,
   "metadata": {},
   "outputs": [],
   "source": [
    "def lastElement(functionList): # Literally grab last element from list\n",
    "    return functionList[len(functionList)-1]\n",
    "def getElement(functionList, index): # grabs element from list if possible else returns the last element\n",
    "    try:\n",
    "        return functionList[index]\n",
    "    except IndexError:\n",
    "        return lastElement(functionList)\n",
    "def getIndex(functionList,index): # returns input index except in the case that would be an index error then returns last element index\n",
    "    try:\n",
    "        placeholder = functionList[index]\n",
    "        return index\n",
    "    except IndexError:\n",
    "        return len(functionList)-1\n",
    "def getLastElements(array, length, index):\n",
    "    if index < length-1:\n",
    "        return array[:index+1]\n",
    "    else:\n",
    "        return array[index-length+1:index+1]\n",
    "class projectilePath:\n",
    "    '''\n",
    "        class for storing paths \n",
    "        I want this to be inside of the motion sim class but idk how to do that\n",
    "    '''\n",
    "    def __init__(self, time, dt, ax, ay, vx, vy, sx,sy, initialConditions):\n",
    "        self.dt = dt\n",
    "        self.time=np.array(time)\n",
    "        self.ax =np.array(ax)\n",
    "        self.ay=np.array(ay)\n",
    "        self.vx=np.array(vx)\n",
    "        self.vy=np.array(vy)\n",
    "        self.sx=np.array(sx)\n",
    "        self.sy=np.array(sy)\n",
    "        self.initialConditions = initialConditions\n",
    "        self.maxTime=None\n",
    "class MotionSim(): # a big class that I want to put more simulations - pendulum ??? in\n",
    "    class ProjectileMotion:\n",
    "        def __init__(self, launchAngle, initialVelocity, ballRadius, mass, dt, name, gravity=9.81):\n",
    "            self.launchAngle = radians(launchAngle)\n",
    "            self.initialVelocity = initialVelocity\n",
    "            self.ballRadius = ballRadius\n",
    "            self.mass=mass\n",
    "            self.dt=dt\n",
    "            self.name = name\n",
    "            self.gravity = -abs(gravity)\n",
    "        def projectileMotion(self):\n",
    "            '''\n",
    "                Projectle motion with SUVAT\n",
    "                Total y displacement is always zero\n",
    "            '''\n",
    "            time = (-2 * self.initialVelocity*sin(self.launchAngle))/(-abs(self.gravity)) # calculate total time\n",
    "            t = np.linspace(0, time,ceil(int(1/self.dt)*time)) # do calculations and shit\n",
    "            sy = np.multiply(t,self.initialVelocity*sin(self.launchAngle)) + np.multiply((0.5*self.gravity),np.square(t))\n",
    "            sx = self.initialVelocity*cos(self.launchAngle)*t\n",
    "            vx  = np.ones(len(t))*self.initialVelocity*cos(self.launchAngle)\n",
    "            vy = self.initialVelocity*sin(self.launchAngle) + self.gravity*t\n",
    "            ax = np.zeros(len(t))\n",
    "            ay = np.ones(len(t))*self.gravity\n",
    "            return projectilePath(t,self.dt, ax,ay,vx,vy,sx,sy, self) #finished\n",
    "        def projectileMotionAirResistance(self, fluidDensity = 1.1455):\n",
    "            xVelocity = [self.initialVelocity*cos(self.launchAngle)] # i guess i should make variable names more consistent\n",
    "            yVelocity = [self.initialVelocity*sin(self.launchAngle)]\n",
    "            dragConstant = 0.47*(fluidDensity)*0.5*(pi*self.ballRadius**2) # the proportionality constant in the drag equation ie everything except v^2\n",
    "            xDisplacement = [0] # lists!\n",
    "            yDisplacement = [0]\n",
    "            print(f\"Drag Constant is : {dragConstant}\") # just a cool thing to know i guess\n",
    "            ax = [0]\n",
    "            ay = [0]\n",
    "            \n",
    "            timeList = [0] \n",
    "            grounded = False\n",
    "            while not grounded:\n",
    "                if lastElement(timeList) > 0: # if we hit the ground already then break\n",
    "                    if lastElement(yDisplacement) <=0:\n",
    "                        break\n",
    "                # the string below this was for debugging\n",
    "                # print(f\"xVelocity: {lastElement(xVelocity)}, yVelocity: {lastElement(yVelocity)} xDisplacement: {lastElement(xDisplacement)} yDisplacememt{lastElement(yDisplacement)}, time: {lastElement(timeList)}\")\n",
    "                timeList.append(lastElement(timeList)+self.dt) # add new time\n",
    "                xDisplacement.append(lastElement(xDisplacement)+lastElement(xVelocity)*self.dt) # do s = s0 + vt\n",
    "                yDisplacement.append(lastElement(yDisplacement)+lastElement(yVelocity)*self.dt)\n",
    "                velocityMagnitude = sqrt(lastElement(xVelocity)**2+lastElement(yVelocity)**2) # this has to be known for drag \n",
    "                ax.append(-dragConstant*velocityMagnitude*lastElement(xVelocity)/self.mass) # calculate new x accleration with only force is drag\n",
    "                ay.append(-abs(self.gravity)-(dragConstant*velocityMagnitude*lastElement(yVelocity)/self.mass)) # new y acceleration drag and gravity\n",
    "                xVelocity.append(lastElement(xVelocity) + lastElement(ax)*self.dt) # update velocity with v= u +at\n",
    "                yVelocity.append(lastElement(yVelocity) +  lastElement(ay)*self.dt) \n",
    "            return projectilePath(timeList, self.dt, ax,ay,xVelocity,yVelocity,xDisplacement,yDisplacement, self) # return the path when its done\n",
    "        def velocityString(self, pathName:str, path:projectilePath, index:int): # a function to make the telemetery panel on the graph easier\n",
    "            return f\"\\n{pathName}: \\nvx: {round(getElement(path.vx,index),2)}\\nvy: {round(getElement(path.vy,index),2)}\\nv mag: {round(sqrt(getElement(path.vx,index)**2+getElement(path.vy,index)**2),2)}\"\n",
    "        def animate(self):\n",
    "            airResistancePath = self.projectileMotionAirResistance() # get paths\n",
    "            airFreePath = self.projectileMotion()\n",
    "            if airResistancePath.time.max() >= airFreePath.time.max():\n",
    "                airResistancePath.maxTime=True\n",
    "                graphTime = airResistancePath.time # get the longest time it differs depending on the conditions\n",
    "            else:\n",
    "                airFreePath.maxTime=True\n",
    "                graphTime = airFreePath.time\n",
    "            fig = plt.figure() \n",
    "            gs = GridSpec(5, 10, figure=fig)\n",
    "            ax1 = fig.add_subplot(gs[:, 0:7])\n",
    "            ax2 = fig.add_subplot(gs[:, 7:])\n",
    "            ax1.set_xlim(left=0,right= airFreePath.sx.max())\n",
    "            ax1.set_ylim(bottom=0,top=airFreePath.sy.max())\n",
    "            ax2.set_ylim(bottom=0,top=airFreePath.sy.max())\n",
    "            ax2.set_frame_on(False)\n",
    "            ax2.axes.get_yaxis().set_visible(False)\n",
    "            ax2.axes.get_xaxis().set_visible(False)\n",
    "            camera = Camera(fig)\n",
    "            annotationStringConstant = f\"initial conditions:\\nsphere radius: {self.ballRadius} m\\nsphere mass: {self.mass} kg\\ninitial velocity: {self.initialVelocity} m/s\\nlaunch angle: {degrees(self.launchAngle)} degrees\"\n",
    "            for i in range(len(graphTime)):\n",
    "                ax1.scatter(airFreePath.sx[:getIndex(airFreePath.sx,i)],airFreePath.sy[:getIndex(airFreePath.sy,i)],color='red')\n",
    "                ax1.scatter(airResistancePath.sx[:getIndex(airResistancePath.sx,i)],airResistancePath.sy[:getIndex(airResistancePath.sy,i)],color='blue') # plot the path\n",
    "                vaccuumString = self.velocityString(pathName=\"vacuum projectile\", path=airFreePath, index=i) # string for vaccum path\n",
    "                airResistanceString = self.velocityString(pathName=\"air resistance projectile\", path=airResistancePath, index=i) # string for air resistance path\n",
    "                timestring = f\"\\ntime: {round(graphTime[i],3)}\" # time!\n",
    "                ax2.text(0,(airFreePath.sy.max()/3),s=(annotationStringConstant+timestring + vaccuumString+airResistanceString )) # update the text\n",
    "                camera.snap() # snap\n",
    "            anim = camera.animate()\n",
    "            plt.close()\n",
    "            writervideo = animation.FFMpegWriter(fps=round(len(graphTime)/graphTime.max())) # the frame rate is calculated so that the animation runs in real time\n",
    "            anim.save(\"launchAngle/\" + self.name+\".mp4\", writer=writervideo)      \n",
    "    class Pendulum:\n",
    "        def __init__(self, mass, radius, startingAngle, runTime,dt, simulationName, gravity=-9.81):\n",
    "            self.mass=mass\n",
    "            self.radius=radius\n",
    "            self.runTime= runTime\n",
    "            self.startingAngle = radians(startingAngle)\n",
    "            self.dt=dt\n",
    "            self.simulationName = simulationName\n",
    "            self.gravity = abs(gravity)\n",
    "        def createPath(self):\n",
    "            print(f\"starting angle = {degrees(self.startingAngle)}, in radians = {self.startingAngle}\")\n",
    "            print(f\"-gravity/length = {-self.gravity/self.radius}\")\n",
    "            time = [0]\n",
    "            theta, thetadot, thetadoubledot = [self.startingAngle], [0], [(-self.gravity/self.radius)*sin(self.startingAngle)]\n",
    "            while lastElement(time) <= self.runTime:\n",
    "                time.append(lastElement(time)+self.dt)\n",
    "                thetadoubledot.append((-self.gravity/self.radius)*sin(lastElement(theta)))\n",
    "                thetadot.append(lastElement(thetadot)+lastElement(thetadoubledot)*self.dt)\n",
    "                theta.append(lastElement(theta)+ lastElement(thetadot)*self.dt)\n",
    "            return time, theta,thetadot,thetadoubledot\n",
    "        def animate(self):\n",
    "            time,theta, dtheta, dtwotheta = self.createPath()\n",
    "            time = np.array(time)\n",
    "            length = np.ones(len(time))*self.radius\n",
    "            theta = np.array(theta) - np.ones(len(theta))*(np.pi/2)\n",
    "            line = np.arange(round(100*self.radius)+1)*0.01\n",
    "            fig = plt.figure()\n",
    "            ax = fig.add_subplot(111,projection='polar')\n",
    "            ax.set_frame_on(False)\n",
    "            ax.axes.get_yaxis().set_visible(False)\n",
    "            ax.axes.get_xaxis().set_visible(False)\n",
    "            camera = Camera(fig)\n",
    "            for i in range(len(time)):\n",
    "                angleList = np.ones(round(100*self.radius)+1)*theta[i]\n",
    "                plt.plot(angleList, line, color='blue')\n",
    "                ax.scatter(getLastElements(theta,10,i), getLastElements(length, 10,i), color= 'red')\n",
    "                camera.snap()\n",
    "            anim = camera.animate()\n",
    "            writervideo = animation.FFMpegWriter(fps=round(len(time)/time.max())) # the frame rate is calculated so that the animation runs in real time\n",
    "            anim.save(self.simulationName + \".mp4\", writer=writervideo)   \n",
    "\n",
    "\n",
    "        \n"
   ]
  }
 ],
 "metadata": {
  "interpreter": {
   "hash": "73fcfa07a03ff40458abcca956b4b718280c22b598635f86f95f8ee28050855b"
  },
  "kernelspec": {
   "display_name": "Python 3.8.9 ('.venv': venv)",
   "language": "python",
   "name": "python3"
  },
  "language_info": {
   "codemirror_mode": {
    "name": "ipython",
    "version": 3
   },
   "file_extension": ".py",
   "mimetype": "text/x-python",
   "name": "python",
   "nbconvert_exporter": "python",
   "pygments_lexer": "ipython3",
   "version": "3.8.9"
  },
  "orig_nbformat": 4
 },
 "nbformat": 4,
 "nbformat_minor": 2
}
