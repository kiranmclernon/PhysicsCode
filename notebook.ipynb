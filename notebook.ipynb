{
 "cells": [
  {
   "cell_type": "code",
   "execution_count": 266,
   "metadata": {},
   "outputs": [],
   "source": [
    "import numpy as np\n",
    "import matplotlib\n",
    "import matplotlib.pyplot as plt\n",
    "from mpl_toolkits.mplot3d import Axes3D\n",
    "from matplotlib.gridspec import GridSpec\n",
    "from matplotlib import animation\n",
    "from IPython.display import HTML\n",
    "from celluloid import Camera\n",
    "from math import sin, cos, radians, pi, sqrt, ceil, degrees\n",
    "from collections import namedtuple\n",
    "%matplotlib widget\n",
    "matplotlib.rcParams['animation.ffmpeg_path'] = \"/Users/kiranmclernon/Documents/PhysicsCode/ffmpeg 2\""
   ]
  },
  {
   "cell_type": "code",
   "execution_count": null,
   "metadata": {},
   "outputs": [],
   "source": [
    "fig = plt.figure()\n",
    "ax = Axes3D(fig)\n",
    "plt.title('Parametric Curve Plot')\n",
    "ax.set_ylabel('Y-axis')\n",
    "ax.set_xlabel('X-axis')\n",
    "ax.set_zlabel('Z-axis')\n",
    "ax.set_yticks((-10, 10, 1.0))\n",
    "ax.set_zticks((-10,10,1.0))\n",
    "# Prepare arrays x, y, z\n",
    "#This sets up our domain (i.e. -6pi <= t<= 6pi\n",
    "t = np.linspace(-6 * np.pi, 6 * np.pi, 100)\n",
    "\n",
    "#Now we have to write our PARAMETERIC FUNCTIONS\n",
    "x = t\n",
    "y = t*np.sin(t)\n",
    "z = t*np.cos(t)\n",
    "\n",
    "camera = Camera(fig)\n",
    "for i in range(len(x)):\n",
    "    imx = x[i]\n",
    "    imy = y[i]\n",
    "    imz = z[i]\n",
    "    ax.scatter(x[i-1], y[i-1], z[i-1],color='blue')\n",
    "    ax.plot(x[0:i], y[0:i], z[0:i],color='red',linestyle='dotted')\n",
    "    camera.snap()\n",
    "\n",
    "    \n",
    "anim = camera.animate()\n",
    "writervideo = animation.FFMpegWriter(fps=24)\n",
    "anim.save('curveplot.mp4', writer=writervideo)"
   ]
  },
  {
   "cell_type": "code",
   "execution_count": 299,
   "metadata": {},
   "outputs": [],
   "source": [
    "def lastElement(functionList):\n",
    "    return functionList[len(functionList)-1]\n",
    "def getElement(functionList, index):\n",
    "    try:\n",
    "        return functionList[index]\n",
    "    except IndexError:\n",
    "        return lastElement(functionList)\n",
    "def getIndex(functionList,index):\n",
    "    try:\n",
    "        placeholder = functionList[index]\n",
    "        return index\n",
    "    except IndexError:\n",
    "        return len(functionList)-1\n",
    "class projectilePath:\n",
    "    def __init__(self, time, dt, ax, ay, vx, vy, sx,sy, initialConditions):\n",
    "        self.dt = dt\n",
    "        self.time=np.array(time)\n",
    "        self.ax =np.array(ax)\n",
    "        self.ay=np.array(ay)\n",
    "        self.vx=np.array(vx)\n",
    "        self.vy=np.array(vy)\n",
    "        self.sx=np.array(sx)\n",
    "        self.sy=np.array(sy)\n",
    "        self.initialConditions = initialConditions\n",
    "        self.maxTime=None\n",
    "class motionSim():\n",
    "    class projectilemotion:\n",
    "        def __init__(self, launchAngle, initialVelocity, ballRadius, mass, dt, gravity=9.81):\n",
    "            self.launchAngle = radians(launchAngle)\n",
    "            self.initialVelocity = initialVelocity\n",
    "            self.ballRadius = ballRadius\n",
    "            self.mass=mass\n",
    "            self.dt=dt\n",
    "            self.gravity = -abs(gravity)\n",
    "        def projectileMotion(self):\n",
    "            time = (-2 * self.initialVelocity*sin(self.launchAngle))/(-abs(self.gravity))\n",
    "            print(f\"time = {time}\")\n",
    "            t = np.linspace(0, time,ceil(int(1/self.dt)*time))\n",
    "            sy = np.multiply(t,self.initialVelocity*sin(self.launchAngle)) + np.multiply((0.5*self.gravity),np.square(t))\n",
    "            sx = self.initialVelocity*cos(self.launchAngle)*t\n",
    "            vx  = np.ones(len(t))*self.initialVelocity\n",
    "            vy = self.initialVelocity + self.gravity*t\n",
    "            ax = np.zeros(len(t))\n",
    "            ay = np.ones(len(t))*self.gravity\n",
    "            return projectilePath(t,self.dt, ax,ay,vx,vy,sx,sy, self)\n",
    "        def projectileMotionAirResistance(self, fluidDensity = 1.1455):\n",
    "            xVelocity = [self.initialVelocity*cos(self.launchAngle)]\n",
    "            yVelocity = [self.initialVelocity*sin(self.launchAngle)]\n",
    "            dragConstant = 0.47*(fluidDensity)*0.5*(pi*self.ballRadius**2)\n",
    "            xDisplacement = [0]\n",
    "            yDisplacement = [0]\n",
    "            print(f\"Drag Constant is : {dragConstant}\")\n",
    "            ax = [0]\n",
    "            ay = [0]\n",
    "            \n",
    "            timeList = [0]\n",
    "            grounded = False\n",
    "            while not grounded:\n",
    "                if lastElement(timeList) > 0:\n",
    "                    if lastElement(yDisplacement) <=0:\n",
    "                        break\n",
    "                # print(f\"xVelocity: {lastElement(xVelocity)}, yVelocity: {lastElement(yVelocity)} xDisplacement: {lastElement(xDisplacement)} yDisplacememt{lastElement(yDisplacement)}, time: {lastElement(timeList)}\")\n",
    "                timeList.append(lastElement(timeList)+self.dt)\n",
    "                xDisplacement.append(lastElement(xDisplacement)+lastElement(xVelocity)*self.dt)\n",
    "                yDisplacement.append(lastElement(yDisplacement)+lastElement(yVelocity)*self.dt)\n",
    "                velocityMagnitude = sqrt(lastElement(xVelocity)**2+lastElement(yVelocity)**2)\n",
    "                ax.append(-dragConstant*velocityMagnitude*lastElement(xVelocity)/self.mass)\n",
    "                ay.append(-abs(self.gravity)-(dragConstant*velocityMagnitude*lastElement(yVelocity)/self.mass))\n",
    "                xVelocity.append(lastElement(xVelocity) + lastElement(ax)*self.dt)\n",
    "                yVelocity.append(lastElement(yVelocity) +  lastElement(ay)*self.dt)\n",
    "            return projectilePath(timeList, self.dt, ax,ay,xVelocity,yVelocity,xDisplacement,yDisplacement, self)\n",
    "        def velocityString(self, pathName:str, path:projectilePath, index:int):\n",
    "            return f\"\\n{pathName}: \\nvx: {round(getElement(path.vx,index),2)}\\nvy: {round(getElement(path.vy,index),2)}\\nv mag: {round(sqrt(getElement(path.vx,index)**2+getElement(path.vy,index)**2),2)}\"\n",
    "        def animate(self):\n",
    "            airResistancePath = self.projectileMotionAirResistance()\n",
    "            airFreePath = self.projectileMotion()\n",
    "            if airResistancePath.time.max() >= airFreePath.time.max():\n",
    "                airResistancePath.maxTime=True\n",
    "                graphTime = airResistancePath.time\n",
    "            else:\n",
    "                airFreePath.maxTime=True\n",
    "                graphTime = airFreePath.time\n",
    "            fig = plt.figure()\n",
    "            gs = GridSpec(5, 10, figure=fig)\n",
    "            ax1 = fig.add_subplot(gs[:, 0:7])\n",
    "            # ax3 = fig.add_subplot(gs[:,5:6])\n",
    "            ax2 = fig.add_subplot(gs[:, 7:])\n",
    "            ax1.set_xlim(left=0,right= airFreePath.sx.max())\n",
    "            ax1.set_ylim(bottom=0,top=airFreePath.sy.max())\n",
    "            ax2.set_frame_on(False)\n",
    "            ax2.axes.get_yaxis().set_visible(False)\n",
    "            ax2.axes.get_xaxis().set_visible(False)\n",
    "            # ax3.set_frame_on(False)\n",
    "            # ax3.axes.get_yaxis().set_visible(False)\n",
    "            # ax3.axes.get_xaxis().set_visible(False)\n",
    "            camera = Camera(fig)\n",
    "            annotationStringConstant = f\"initial conditions:\\nsphere radius: {self.ballRadius} m\\nsphere mass: {self.mass} kg\\ninitial velocity: {self.initialVelocity} m/s\\nlaunch angle: {degrees(self.launchAngle)} degrees\"\n",
    "            for i in range(len(graphTime)):\n",
    "                ax1.scatter(airFreePath.sx[:getIndex(airFreePath.sx,i)],airFreePath.sy[:getIndex(airFreePath.sy,i)],color='red')\n",
    "                ax1.scatter(airResistancePath.sx[:getIndex(airResistancePath.sx,i)],airResistancePath.sy[:getIndex(airResistancePath.sy,i)],color='blue')\n",
    "                vaccuumString = self.velocityString(pathName=\"vacuum projectile\", path=airFreePath, index=i)\n",
    "                airResistanceString = self.velocityString(pathName=\"air resistance projectile\", path=airResistancePath, index=i)\n",
    "                ax2.text(0,(airFreePath.sy.max()/2),s=(annotationStringConstant+vaccuumString+airResistanceString ))\n",
    "                camera.snap()\n",
    "            plt.show()\n",
    "            anim = camera.animate(interval=1000000*self.dt)\n",
    "            writervideo = animation.FFMpegWriter(fps=24)\n",
    "            anim.save('projectileMotion.mp4', writer=writervideo)      \n",
    "            \n",
    "\n"
   ]
  },
  {
   "cell_type": "code",
   "execution_count": null,
   "metadata": {},
   "outputs": [],
   "source": []
  },
  {
   "cell_type": "code",
   "execution_count": 303,
   "metadata": {},
   "outputs": [
    {
     "name": "stdout",
     "output_type": "stream",
     "text": [
      "Drag Constant is : 0.8456931804014703\n",
      "time = 0.7208020195581524\n"
     ]
    },
    {
     "data": {
      "application/vnd.jupyter.widget-view+json": {
       "model_id": "deb4e281748d4f26a95147e1e40affdf",
       "version_major": 2,
       "version_minor": 0
      },
      "image/png": "[encoded data removed]",
      "text/html": [
       "\n",
       "            <div style=\"display: inline-block;\">\n",
       "                <div class=\"jupyter-widgets widget-label\" style=\"text-align: center;\">\n",
       "                    Figure\n",
       "                </div>\n",
       "                <img src='data:image/png;base64,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' width=640.0/>\n",
       "            </div>\n",
       "        "
      ],
      "text/plain": [
       "Canvas(toolbar=Toolbar(toolitems=[('Home', 'Reset original view', 'home', 'home'), ('Back', 'Back to previous …"
      ]
     },
     "metadata": {},
     "output_type": "display_data"
    }
   ],
   "source": [
    "sim = motionSim.projectilemotion(launchAngle=45, initialVelocity=5, ballRadius=1, mass=1, dt=0.01)\n",
    "sim.animate()"
   ]
  },
  {
   "cell_type": "code",
   "execution_count": null,
   "metadata": {},
   "outputs": [],
   "source": []
  },
  {
   "cell_type": "code",
   "execution_count": null,
   "metadata": {},
   "outputs": [],
   "source": []
  },
  {
   "cell_type": "code",
   "execution_count": null,
   "metadata": {},
   "outputs": [],
   "source": []
  },
  {
   "cell_type": "code",
   "execution_count": null,
   "metadata": {},
   "outputs": [],
   "source": []
  },
  {
   "cell_type": "code",
   "execution_count": null,
   "metadata": {},
   "outputs": [],
   "source": []
  },
  {
   "cell_type": "code",
   "execution_count": null,
   "metadata": {},
   "outputs": [],
   "source": []
  },
  {
   "cell_type": "code",
   "execution_count": null,
   "metadata": {},
   "outputs": [],
   "source": []
  },
  {
   "cell_type": "code",
   "execution_count": null,
   "metadata": {},
   "outputs": [],
   "source": []
  },
  {
   "cell_type": "code",
   "execution_count": null,
   "metadata": {},
   "outputs": [],
   "source": []
  },
  {
   "cell_type": "code",
   "execution_count": null,
   "metadata": {},
   "outputs": [],
   "source": []
  },
  {
   "cell_type": "code",
   "execution_count": null,
   "metadata": {},
   "outputs": [],
   "source": []
  },
  {
   "cell_type": "code",
   "execution_count": null,
   "metadata": {},
   "outputs": [],
   "source": []
  },
  {
   "cell_type": "code",
   "execution_count": null,
   "metadata": {},
   "outputs": [],
   "source": []
  },
  {
   "cell_type": "code",
   "execution_count": null,
   "metadata": {},
   "outputs": [],
   "source": []
  },
  {
   "cell_type": "code",
   "execution_count": null,
   "metadata": {},
   "outputs": [],
   "source": []
  },
  {
   "cell_type": "code",
   "execution_count": null,
   "metadata": {},
   "outputs": [],
   "source": []
  },
  {
   "cell_type": "code",
   "execution_count": null,
   "metadata": {},
   "outputs": [],
   "source": []
  },
  {
   "cell_type": "code",
   "execution_count": null,
   "metadata": {},
   "outputs": [],
   "source": []
  }
 ],
 "metadata": {
  "interpreter": {
   "hash": "73fcfa07a03ff40458abcca956b4b718280c22b598635f86f95f8ee28050855b"
  },
  "kernelspec": {
   "display_name": "Python 3.8.9 ('.venv': venv)",
   "language": "python",
   "name": "python3"
  },
  "language_info": {
   "codemirror_mode": {
    "name": "ipython",
    "version": 3
   },
   "file_extension": ".py",
   "mimetype": "text/x-python",
   "name": "python",
   "nbconvert_exporter": "python",
   "pygments_lexer": "ipython3",
   "version": "3.8.9"
  },
  "orig_nbformat": 4
 },
 "nbformat": 4,
 "nbformat_minor": 2
}
